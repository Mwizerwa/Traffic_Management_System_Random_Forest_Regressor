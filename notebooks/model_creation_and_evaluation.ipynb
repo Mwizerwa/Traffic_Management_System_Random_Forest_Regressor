{
 "cells": [
  {
   "cell_type": "markdown",
   "id": "95a93c0f",
   "metadata": {},
   "source": [
    "## Model Creation & Evaluation"
   ]
  },
  {
   "cell_type": "code",
   "execution_count": 1,
   "id": "4e2c0a86",
   "metadata": {},
   "outputs": [],
   "source": [
    "%%capture\n",
    "#Load feature_selection-engineering file\n",
    "%run feature_selection-engineering.ipynb"
   ]
  },
  {
   "cell_type": "markdown",
   "id": "57a774a3",
   "metadata": {},
   "source": [
    "### Train Test Split"
   ]
  },
  {
   "cell_type": "code",
   "execution_count": 2,
   "id": "dc1392d7",
   "metadata": {},
   "outputs": [],
   "source": [
    "#Get dependent and independent variables\n",
    "X = traffic_data[[ \"Year\", \"Month\", \"DayOfWeek\", \"HourOfDay\", \"Junction\"]]\n",
    "y = traffic_data[[\"Vehicles\"]]\n",
    "\n",
    "#Split dataset into train and test\n",
    "X_train, X_test, y_train, y_test = train_test_split(X, y, test_size = 0.2, random_state = 42)"
   ]
  },
  {
   "cell_type": "code",
   "execution_count": 3,
   "id": "f1d1d24f",
   "metadata": {},
   "outputs": [],
   "source": [
    "#Model evaluation function\n",
    "def model_eval(model_name):\n",
    "    model = model_name #Assign the model\n",
    "    model.fit(X_train, y_train) #Fit the model\n",
    "    \n",
    "    #Make predictions on the test set\n",
    "    y_pred = model.predict(X_test)\n",
    "\n",
    "    #Different metrics\n",
    "    rmse = np.sqrt(mean_squared_error(y_test, y_pred)) #Calculate the RMSE\n",
    "    r2 = r2_score(y_test, y_pred) #Calculate the R-squared\n",
    "    mae = mean_absolute_error(y_test, y_pred) #Calculate MAE\n",
    "\n",
    "    #Print the results\n",
    "    print(\"RMSE: \", rmse)\n",
    "    print(\"R-squared: \", r2)\n",
    "    print(\"MAE: \", mae)"
   ]
  },
  {
   "cell_type": "markdown",
   "id": "74359fc5",
   "metadata": {},
   "source": [
    "#### XGBoost Regressor"
   ]
  },
  {
   "cell_type": "code",
   "execution_count": 4,
   "id": "be8fb860",
   "metadata": {},
   "outputs": [
    {
     "name": "stdout",
     "output_type": "stream",
     "text": [
      "RMSE:  5.046367826810308\n",
      "R-squared:  0.9316728843005203\n",
      "MAE:  3.36985913373724\n"
     ]
    }
   ],
   "source": [
    "#XGBoost\n",
    "model_eval(XGBRegressor())"
   ]
  },
  {
   "cell_type": "markdown",
   "id": "697a798d",
   "metadata": {},
   "source": [
    "#### Random Forest Regressor"
   ]
  },
  {
   "cell_type": "code",
   "execution_count": 5,
   "id": "120b95fa",
   "metadata": {},
   "outputs": [
    {
     "name": "stdout",
     "output_type": "stream",
     "text": [
      "RMSE:  4.547099964859625\n",
      "R-squared:  0.9445241089559638\n",
      "MAE:  2.965587559563816\n"
     ]
    }
   ],
   "source": [
    "#RandomForest\n",
    "model_eval(RandomForestRegressor())"
   ]
  },
  {
   "cell_type": "markdown",
   "id": "0783ce17",
   "metadata": {},
   "source": [
    "### With dummy variables"
   ]
  },
  {
   "cell_type": "code",
   "execution_count": 6,
   "id": "b170ddf2",
   "metadata": {},
   "outputs": [],
   "source": [
    "#Split dataset into train and test\n",
    "new_X_train, new_X_test, new_y_train, new_y_test = train_test_split(new_X, new_y, test_size = 0.2, random_state = 42)"
   ]
  },
  {
   "cell_type": "code",
   "execution_count": 7,
   "id": "14a712c2",
   "metadata": {},
   "outputs": [],
   "source": [
    "#Model evaluation function\n",
    "def new_model_eval(model_name):\n",
    "    model = model_name #Assign the model\n",
    "    model.fit(new_X_train, new_y_train) #Fit the model\n",
    "    \n",
    "    #Make predictions on the test set\n",
    "    new_y_pred = model.predict(new_X_test)\n",
    "\n",
    "    #Different metrics\n",
    "    rmse = np.sqrt(mean_squared_error(new_y_test, new_y_pred)) #Calculate the RMSE\n",
    "    r2 = r2_score(new_y_test, new_y_pred) #Calculate the R-squared\n",
    "    mae = mean_absolute_error(new_y_test, new_y_pred) #Calculate MAE\n",
    "\n",
    "    #Print the results\n",
    "    print(\"RMSE: \", rmse)\n",
    "    print(\"R-squared: \", r2)\n",
    "    print(\"MAE: \", mae)"
   ]
  },
  {
   "cell_type": "markdown",
   "id": "87a531e9",
   "metadata": {},
   "source": [
    "#### XGBoost Regressor"
   ]
  },
  {
   "cell_type": "code",
   "execution_count": 8,
   "id": "579ec770",
   "metadata": {},
   "outputs": [
    {
     "name": "stdout",
     "output_type": "stream",
     "text": [
      "RMSE:  5.5934440588926435\n",
      "R-squared:  0.916055184190329\n",
      "MAE:  3.764442518738149\n"
     ]
    }
   ],
   "source": [
    "#XGBoost\n",
    "new_model_eval(XGBRegressor())"
   ]
  },
  {
   "cell_type": "markdown",
   "id": "ecfc9e37",
   "metadata": {},
   "source": [
    "#### Random Forest Regressor"
   ]
  },
  {
   "cell_type": "code",
   "execution_count": 9,
   "id": "75e0ecf7",
   "metadata": {},
   "outputs": [
    {
     "name": "stdout",
     "output_type": "stream",
     "text": [
      "RMSE:  4.939851720086754\n",
      "R-squared:  0.9345268692365941\n",
      "MAE:  3.2263316743928967\n"
     ]
    }
   ],
   "source": [
    "#RanadomForest\n",
    "new_model_eval(RandomForestRegressor())"
   ]
  },
  {
   "cell_type": "markdown",
   "id": "daec8af8",
   "metadata": {},
   "source": [
    "### Cross Validation "
   ]
  },
  {
   "cell_type": "code",
   "execution_count": 10,
   "id": "f540769e",
   "metadata": {},
   "outputs": [],
   "source": [
    "#Define the cross-validation method\n",
    "kfold = KFold(n_splits=10, shuffle=True, random_state=42)\n",
    "def cv_model_eval(model):\n",
    "    #Use cross-validation to evaluate the model\n",
    "    scores = cross_val_score(model, X, y, cv = kfold, scoring = 'neg_mean_squared_error')\n",
    "\n",
    "    #Calculate the RMSE, R-squared, and MAE\n",
    "    rmse = np.sqrt(-scores.mean())\n",
    "    r2 = cross_val_score(model, X, y, cv=kfold, scoring='r2').mean()\n",
    "    mae = cross_val_score(model, X, y, cv=kfold, scoring='neg_mean_absolute_error').mean()\n",
    "\n",
    "    #Print the results\n",
    "    print(\"RMSE: \", rmse)\n",
    "    print(\"R-squared: \", r2)\n",
    "    print(\"MAE: \", -mae)"
   ]
  },
  {
   "cell_type": "markdown",
   "id": "380938c9",
   "metadata": {},
   "source": [
    "#### XGBRegressor"
   ]
  },
  {
   "cell_type": "code",
   "execution_count": 11,
   "id": "0b428e1f",
   "metadata": {},
   "outputs": [
    {
     "name": "stdout",
     "output_type": "stream",
     "text": [
      "RMSE:  5.113697453557049\n",
      "R-squared:  0.9331755953442382\n",
      "MAE:  3.386168236494238\n"
     ]
    }
   ],
   "source": [
    "#XGBoost\n",
    "cv_model_eval(XGBRegressor())"
   ]
  },
  {
   "cell_type": "markdown",
   "id": "5ad2180f",
   "metadata": {},
   "source": [
    "#### RanadomForest"
   ]
  },
  {
   "cell_type": "code",
   "execution_count": 12,
   "id": "3699403f",
   "metadata": {},
   "outputs": [
    {
     "name": "stdout",
     "output_type": "stream",
     "text": [
      "RMSE:  4.547490007850059\n",
      "R-squared:  0.9476054755763281\n",
      "MAE:  2.925487404355202\n"
     ]
    }
   ],
   "source": [
    "#RanadomForest\n",
    "cv_model_eval(RandomForestRegressor())"
   ]
  },
  {
   "cell_type": "markdown",
   "id": "3f8a0bf2",
   "metadata": {},
   "source": [
    "### With dummy variables"
   ]
  },
  {
   "cell_type": "markdown",
   "id": "a1619576",
   "metadata": {},
   "source": [
    "#### XGBRegressor"
   ]
  },
  {
   "cell_type": "code",
   "execution_count": 13,
   "id": "9582151d",
   "metadata": {},
   "outputs": [],
   "source": [
    "#Define the cross-validation method\n",
    "kfold = KFold(n_splits=10, shuffle=True, random_state=42)\n",
    "def cv_model_eval_d(model):\n",
    "    #Use cross-validation to evaluate the model\n",
    "    scores = cross_val_score(model, new_X, new_y, cv = kfold, scoring = 'neg_mean_squared_error')\n",
    "\n",
    "    #Calculate the RMSE, R-squared, and MAE\n",
    "    rmse = np.sqrt(-scores.mean())\n",
    "    r2 = cross_val_score(model,new_X, new_y, cv=kfold, scoring='r2').mean()\n",
    "    mae = cross_val_score(model, new_X, new_y, cv=kfold, scoring='neg_mean_absolute_error').mean()\n",
    "\n",
    "    #Print the results\n",
    "    print(\"RMSE: \", rmse)\n",
    "    print(\"R-squared: \", r2)\n",
    "    print(\"MAE: \", -mae)"
   ]
  },
  {
   "cell_type": "code",
   "execution_count": 14,
   "id": "e3363480",
   "metadata": {},
   "outputs": [
    {
     "name": "stdout",
     "output_type": "stream",
     "text": [
      "RMSE:  5.72827796050781\n",
      "R-squared:  0.9161441948318643\n",
      "MAE:  3.8506377245752335\n"
     ]
    }
   ],
   "source": [
    "#XGBoost\n",
    "cv_model_eval_d(XGBRegressor())"
   ]
  },
  {
   "cell_type": "markdown",
   "id": "ba9023d5",
   "metadata": {},
   "source": [
    "#### RanadomForest"
   ]
  },
  {
   "cell_type": "code",
   "execution_count": 15,
   "id": "9b19c94f",
   "metadata": {},
   "outputs": [
    {
     "name": "stdout",
     "output_type": "stream",
     "text": [
      "RMSE:  4.975028790492222\n",
      "R-squared:  0.9367603799076083\n",
      "MAE:  3.210741678523763\n"
     ]
    }
   ],
   "source": [
    "#RanadomForest\n",
    "cv_model_eval_d(RandomForestRegressor())"
   ]
  },
  {
   "cell_type": "code",
   "execution_count": null,
   "id": "c5c68bd1",
   "metadata": {},
   "outputs": [],
   "source": []
  }
 ],
 "metadata": {
  "kernelspec": {
   "display_name": "Python 3",
   "language": "python",
   "name": "python3"
  },
  "language_info": {
   "codemirror_mode": {
    "name": "ipython",
    "version": 3
   },
   "file_extension": ".py",
   "mimetype": "text/x-python",
   "name": "python",
   "nbconvert_exporter": "python",
   "pygments_lexer": "ipython3",
   "version": "3.8.8"
  }
 },
 "nbformat": 4,
 "nbformat_minor": 5
}
