{
 "cells": [
  {
   "cell_type": "markdown",
   "id": "c2716a20",
   "metadata": {},
   "source": [
    "## Prediction"
   ]
  },
  {
   "cell_type": "code",
   "execution_count": null,
   "id": "f754348a",
   "metadata": {
    "scrolled": true
   },
   "outputs": [],
   "source": [
    "%%capture\n",
    "#Load model_creation_and_evaluation file\n",
    "%run model_creation_and_evaluation.ipynb"
   ]
  },
  {
   "cell_type": "code",
   "execution_count": null,
   "id": "8d2a8dcf",
   "metadata": {},
   "outputs": [],
   "source": [
    "#Extract the features and target variable\n",
    "X = traffic_data[[\"Year\", \"Month\", \"DayOfWeek\", \"HourOfDay\", \"Junction\"]]\n",
    "y = traffic_data[[\"Vehicles\"]]\n",
    "\n",
    "# Train a RandomForestRegressor model with hyperparameter tuning\n",
    "model = RandomForestRegressor(n_estimators=100, max_depth=None, min_samples_split=2, random_state=42)\n",
    "model.fit(X, y.values.ravel())"
   ]
  },
  {
   "cell_type": "code",
   "execution_count": null,
   "id": "aa425f23",
   "metadata": {},
   "outputs": [],
   "source": [
    "#Function to preprocess user input and make a prediction\n",
    "def predict_traffic(year, month, day, hour, junction):\n",
    "    user_input = pd.DataFrame({\"Year\": [year],\n",
    "                               \"Month\": [month],\n",
    "                               \"DayOfWeek\": [datetime.date(year, month, day).weekday() + 1],\n",
    "                               \"HourOfDay\": [hour],\n",
    "                               \"Junction\": [junction]})\n",
    "    \n",
    "    user_input = user_input\n",
    "    prediction = model.predict(user_input)\n",
    "    return int(round(prediction[0]))\n",
    "\n",
    "# Get user input\n",
    "year = int(input(\"Enter the year (YYYY): \"))\n",
    "while year > 2025:\n",
    "    print(\"Year should not exceed 2025.\")\n",
    "    year = int(input(\"Enter the year (YYYY): \"))\n",
    "\n",
    "month = int(input(\"Enter the month (as a number from 1 to 12): \"))\n",
    "max_day = [31, 28, 31, 30, 31, 30, 31, 31, 30, 31, 30, 31][month - 1]\n",
    "day = int(input(\"Enter the day of the month (1 to {}): \".format(max_day)))\n",
    "hour = int(input(\"Enter the hour of the day (as a number from 0 to 23): \"))\n",
    "junction = int(input(\"Enter the junction (as a number from 1 to 4): \"))\n",
    "\n",
    "# Make a prediction and print the result\n",
    "predicted_vehicles = predict_traffic(year, month, day, hour, junction)\n",
    "print(\"Predicted number of vehicles for {}-{:02d}-{:02d} at hour {}: {}\".format(year, month, day, hour, predicted_vehicles))"
   ]
  },
  {
   "cell_type": "code",
   "execution_count": null,
   "id": "805a6f90",
   "metadata": {},
   "outputs": [],
   "source": []
  }
 ],
 "metadata": {
  "kernelspec": {
   "display_name": "Python 3",
   "language": "python",
   "name": "python3"
  },
  "language_info": {
   "codemirror_mode": {
    "name": "ipython",
    "version": 3
   },
   "file_extension": ".py",
   "mimetype": "text/x-python",
   "name": "python",
   "nbconvert_exporter": "python",
   "pygments_lexer": "ipython3",
   "version": "3.8.8"
  }
 },
 "nbformat": 4,
 "nbformat_minor": 5
}
